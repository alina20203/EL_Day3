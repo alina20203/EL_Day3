{
 "cells": [
  {
   "cell_type": "markdown",
   "id": "18267d3c",
   "metadata": {},
   "source": [
    "# Linear Regression"
   ]
  },
  {
   "cell_type": "markdown",
   "id": "667c2e7a",
   "metadata": {},
   "source": [
    "The purpose of this task is to build a simple linear regression model which will model the relationship between an independant and a dependant variable."
   ]
  },
  {
   "cell_type": "markdown",
   "id": "076715cc",
   "metadata": {},
   "source": [
    "## 1.Import and preprocess the dataset"
   ]
  },
  {
   "cell_type": "markdown",
   "id": "77ef5633",
   "metadata": {},
   "source": [
    "### Import necessary libraries"
   ]
  },
  {
   "cell_type": "code",
   "execution_count": 1,
   "id": "5ff3b4c2",
   "metadata": {},
   "outputs": [],
   "source": [
    "import pandas as pd\n",
    "import numpy as np\n",
    "import matplotlib.pyplot as plt\n",
    "%matplotlib inline"
   ]
  },
  {
   "cell_type": "markdown",
   "id": "973bb972",
   "metadata": {},
   "source": [
    "### Load Dataset\n",
    "The dataset has been taken from Kaggle and it contains information that can be used for house price prediction. there are 13 columns in this dataset but for this task the variables that are used includes price and area."
   ]
  },
  {
   "cell_type": "code",
   "execution_count": 3,
   "id": "50b31c49",
   "metadata": {},
   "outputs": [],
   "source": [
    "df_main=pd.read_csv(\"Housing.csv\")\n",
    "df = df_main[['price', 'area']]"
   ]
  },
  {
   "cell_type": "markdown",
   "id": "55277897",
   "metadata": {},
   "source": [
    "### Exploratory data analysis"
   ]
  },
  {
   "cell_type": "code",
   "execution_count": 4,
   "id": "1f869276",
   "metadata": {},
   "outputs": [
    {
     "data": {
      "text/html": [
       "<div>\n",
       "<style scoped>\n",
       "    .dataframe tbody tr th:only-of-type {\n",
       "        vertical-align: middle;\n",
       "    }\n",
       "\n",
       "    .dataframe tbody tr th {\n",
       "        vertical-align: top;\n",
       "    }\n",
       "\n",
       "    .dataframe thead th {\n",
       "        text-align: right;\n",
       "    }\n",
       "</style>\n",
       "<table border=\"1\" class=\"dataframe\">\n",
       "  <thead>\n",
       "    <tr style=\"text-align: right;\">\n",
       "      <th></th>\n",
       "      <th>price</th>\n",
       "      <th>area</th>\n",
       "    </tr>\n",
       "  </thead>\n",
       "  <tbody>\n",
       "    <tr>\n",
       "      <th>0</th>\n",
       "      <td>13300000</td>\n",
       "      <td>7420</td>\n",
       "    </tr>\n",
       "    <tr>\n",
       "      <th>1</th>\n",
       "      <td>12250000</td>\n",
       "      <td>8960</td>\n",
       "    </tr>\n",
       "    <tr>\n",
       "      <th>2</th>\n",
       "      <td>12250000</td>\n",
       "      <td>9960</td>\n",
       "    </tr>\n",
       "    <tr>\n",
       "      <th>3</th>\n",
       "      <td>12215000</td>\n",
       "      <td>7500</td>\n",
       "    </tr>\n",
       "    <tr>\n",
       "      <th>4</th>\n",
       "      <td>11410000</td>\n",
       "      <td>7420</td>\n",
       "    </tr>\n",
       "  </tbody>\n",
       "</table>\n",
       "</div>"
      ],
      "text/plain": [
       "      price  area\n",
       "0  13300000  7420\n",
       "1  12250000  8960\n",
       "2  12250000  9960\n",
       "3  12215000  7500\n",
       "4  11410000  7420"
      ]
     },
     "execution_count": 4,
     "metadata": {},
     "output_type": "execute_result"
    }
   ],
   "source": [
    "df.head(5)"
   ]
  },
  {
   "cell_type": "code",
   "execution_count": 5,
   "id": "22621592",
   "metadata": {},
   "outputs": [
    {
     "name": "stdout",
     "output_type": "stream",
     "text": [
      "<class 'pandas.core.frame.DataFrame'>\n",
      "RangeIndex: 545 entries, 0 to 544\n",
      "Data columns (total 2 columns):\n",
      " #   Column  Non-Null Count  Dtype\n",
      "---  ------  --------------  -----\n",
      " 0   price   545 non-null    int64\n",
      " 1   area    545 non-null    int64\n",
      "dtypes: int64(2)\n",
      "memory usage: 8.6 KB\n"
     ]
    }
   ],
   "source": [
    "df.info()"
   ]
  },
  {
   "cell_type": "code",
   "execution_count": 6,
   "id": "c59d337f",
   "metadata": {},
   "outputs": [
    {
     "data": {
      "text/html": [
       "<div>\n",
       "<style scoped>\n",
       "    .dataframe tbody tr th:only-of-type {\n",
       "        vertical-align: middle;\n",
       "    }\n",
       "\n",
       "    .dataframe tbody tr th {\n",
       "        vertical-align: top;\n",
       "    }\n",
       "\n",
       "    .dataframe thead th {\n",
       "        text-align: right;\n",
       "    }\n",
       "</style>\n",
       "<table border=\"1\" class=\"dataframe\">\n",
       "  <thead>\n",
       "    <tr style=\"text-align: right;\">\n",
       "      <th></th>\n",
       "      <th>price</th>\n",
       "      <th>area</th>\n",
       "    </tr>\n",
       "  </thead>\n",
       "  <tbody>\n",
       "    <tr>\n",
       "      <th>count</th>\n",
       "      <td>5.450000e+02</td>\n",
       "      <td>545.000000</td>\n",
       "    </tr>\n",
       "    <tr>\n",
       "      <th>mean</th>\n",
       "      <td>4.766729e+06</td>\n",
       "      <td>5150.541284</td>\n",
       "    </tr>\n",
       "    <tr>\n",
       "      <th>std</th>\n",
       "      <td>1.870440e+06</td>\n",
       "      <td>2170.141023</td>\n",
       "    </tr>\n",
       "    <tr>\n",
       "      <th>min</th>\n",
       "      <td>1.750000e+06</td>\n",
       "      <td>1650.000000</td>\n",
       "    </tr>\n",
       "    <tr>\n",
       "      <th>25%</th>\n",
       "      <td>3.430000e+06</td>\n",
       "      <td>3600.000000</td>\n",
       "    </tr>\n",
       "    <tr>\n",
       "      <th>50%</th>\n",
       "      <td>4.340000e+06</td>\n",
       "      <td>4600.000000</td>\n",
       "    </tr>\n",
       "    <tr>\n",
       "      <th>75%</th>\n",
       "      <td>5.740000e+06</td>\n",
       "      <td>6360.000000</td>\n",
       "    </tr>\n",
       "    <tr>\n",
       "      <th>max</th>\n",
       "      <td>1.330000e+07</td>\n",
       "      <td>16200.000000</td>\n",
       "    </tr>\n",
       "  </tbody>\n",
       "</table>\n",
       "</div>"
      ],
      "text/plain": [
       "              price          area\n",
       "count  5.450000e+02    545.000000\n",
       "mean   4.766729e+06   5150.541284\n",
       "std    1.870440e+06   2170.141023\n",
       "min    1.750000e+06   1650.000000\n",
       "25%    3.430000e+06   3600.000000\n",
       "50%    4.340000e+06   4600.000000\n",
       "75%    5.740000e+06   6360.000000\n",
       "max    1.330000e+07  16200.000000"
      ]
     },
     "execution_count": 6,
     "metadata": {},
     "output_type": "execute_result"
    }
   ],
   "source": [
    "df.describe()"
   ]
  },
  {
   "cell_type": "code",
   "execution_count": 7,
   "id": "66efa040",
   "metadata": {},
   "outputs": [
    {
     "data": {
      "text/plain": [
       "price    0\n",
       "area     0\n",
       "dtype: int64"
      ]
     },
     "execution_count": 7,
     "metadata": {},
     "output_type": "execute_result"
    }
   ],
   "source": [
    "df.isnull().sum()"
   ]
  },
  {
   "cell_type": "markdown",
   "id": "783402b8",
   "metadata": {},
   "source": [
    "## 2. Split data into train-test sets"
   ]
  },
  {
   "cell_type": "markdown",
   "id": "0661345c",
   "metadata": {},
   "source": [
    "## Independent and Dependent Variables\n",
    "In this module, Independent variable also called as Input variable is denoted by X, and Dependent variable also called as Output variable and is denoted by Y."
   ]
  },
  {
   "cell_type": "code",
   "execution_count": 8,
   "id": "88e56523",
   "metadata": {},
   "outputs": [],
   "source": [
    "#Declare Independant and Dependant variables\n",
    "X = df['area'].values\n",
    "Y = df['price'].values"
   ]
  },
  {
   "cell_type": "code",
   "execution_count": 10,
   "id": "cf5fa1a0",
   "metadata": {},
   "outputs": [
    {
     "data": {
      "image/png": "[encoded data removed]",
      "text/plain": [
       "<Figure size 640x480 with 1 Axes>"
      ]
     },
     "metadata": {},
     "output_type": "display_data"
    }
   ],
   "source": [
    "#Scatter plot between X and Y\n",
    "plt.scatter(X, Y, color = 'blue', label='Scatter Plot')\n",
    "plt.title('Relationship between area and price')\n",
    "plt.xlabel('area')\n",
    "plt.ylabel('price')\n",
    "plt.legend(loc=4)\n",
    "plt.show()"
   ]
  },
  {
   "cell_type": "code",
   "execution_count": 12,
   "id": "d95ae0da",
   "metadata": {},
   "outputs": [
    {
     "name": "stdout",
     "output_type": "stream",
     "text": [
      "(545,)\n",
      "(545,)\n"
     ]
    }
   ],
   "source": [
    "print(X.shape)\n",
    "print(Y.shape)"
   ]
  },
  {
   "cell_type": "code",
   "execution_count": 14,
   "id": "821f815d",
   "metadata": {},
   "outputs": [],
   "source": [
    "X = X.reshape(-1,1)\n",
    "Y = Y.reshape(-1,1)"
   ]
  },
  {
   "cell_type": "code",
   "execution_count": 15,
   "id": "20e0581d",
   "metadata": {},
   "outputs": [
    {
     "name": "stdout",
     "output_type": "stream",
     "text": [
      "(545, 1)\n",
      "(545, 1)\n"
     ]
    }
   ],
   "source": [
    "print(X.shape)\n",
    "print(Y.shape)"
   ]
  },
  {
   "cell_type": "markdown",
   "id": "487cbf6b",
   "metadata": {},
   "source": [
    "## Tran-test split"
   ]
  },
  {
   "cell_type": "code",
   "execution_count": 20,
   "id": "4795f948",
   "metadata": {},
   "outputs": [],
   "source": [
    "# Split X and Y into training and test data sets\n",
    "from sklearn.model_selection import train_test_split\n",
    "X_train,X_test,Y_train,Y_test = train_test_split(X, Y, test_size=0.3, random_state=42)"
   ]
  },
  {
   "cell_type": "code",
   "execution_count": 21,
   "id": "3ed99d51",
   "metadata": {},
   "outputs": [
    {
     "name": "stdout",
     "output_type": "stream",
     "text": [
      "(381, 1)\n",
      "(381, 1)\n",
      "(164, 1)\n",
      "(164, 1)\n"
     ]
    }
   ],
   "source": [
    "print(X_train.shape)\n",
    "print(Y_train.shape)\n",
    "print(X_test.shape)\n",
    "print(Y_test.shape)"
   ]
  },
  {
   "cell_type": "markdown",
   "id": "531873af",
   "metadata": {},
   "source": [
    "## 3. Linear regression model "
   ]
  },
  {
   "cell_type": "code",
   "execution_count": 22,
   "id": "2806ada4",
   "metadata": {},
   "outputs": [],
   "source": [
    "# Fit the linear model by instantiating the linear regression object lm\n",
    "from sklearn.linear_model import LinearRegression\n",
    "lm = LinearRegression()\n",
    "# Train the model using training data sets\n",
    "lm.fit(X_train,Y_train)\n",
    "# Predict on the test data\n",
    "Y_pred=lm.predict(X_test)"
   ]
  },
  {
   "cell_type": "markdown",
   "id": "c22df32d",
   "metadata": {},
   "source": [
    "### Estimating model slope and intercept"
   ]
  },
  {
   "cell_type": "code",
   "execution_count": 23,
   "id": "d6a5bc97",
   "metadata": {},
   "outputs": [
    {
     "name": "stdout",
     "output_type": "stream",
     "text": [
      "Estimated model slope, a: [[449.44700819]]\n",
      "Estimated model intercept, b: (array([2457461.52838711]),)\n"
     ]
    }
   ],
   "source": [
    "a=lm.coef_\n",
    "b=lm.intercept_,\n",
    "print(\"Estimated model slope, a:\" , a)\n",
    "print(\"Estimated model intercept, b:\" , b) "
   ]
  },
  {
   "cell_type": "markdown",
   "id": "98f33680",
   "metadata": {},
   "source": [
    "The estimated model slope and intercept values are 449.44700819 and +2457461.52838711.\n",
    "\n",
    "So, the equation of the fitted regression line is\n",
    "\n",
    "y = 449.44700819 * x +2457461.52838711"
   ]
  },
  {
   "cell_type": "code",
   "execution_count": 24,
   "id": "7a7cd4af",
   "metadata": {},
   "outputs": [
    {
     "data": {
      "text/plain": [
       "array([[5792358.32913754],\n",
       "       [6484506.72174612],\n",
       "       [6933953.7299335 ],\n",
       "       [5828314.08979253],\n",
       "       [5792358.32913754]])"
      ]
     },
     "execution_count": 24,
     "metadata": {},
     "output_type": "execute_result"
    }
   ],
   "source": [
    "lm.predict(X)[0:5]"
   ]
  },
  {
   "cell_type": "markdown",
   "id": "12cd5908",
   "metadata": {},
   "source": [
    "## 4.Evaluate model "
   ]
  },
  {
   "cell_type": "code",
   "execution_count": 25,
   "id": "cbb4ffb0",
   "metadata": {},
   "outputs": [
    {
     "name": "stdout",
     "output_type": "stream",
     "text": [
      "RMSE value: 1787173.7251\n"
     ]
    }
   ],
   "source": [
    "from sklearn.metrics import mean_squared_error\n",
    "mse = mean_squared_error(Y_test, Y_pred)\n",
    "rmse = np.sqrt(mse)\n",
    "print(\"RMSE value: {:.4f}\".format(rmse))"
   ]
  },
  {
   "cell_type": "code",
   "execution_count": 26,
   "id": "a240af56",
   "metadata": {},
   "outputs": [
    {
     "name": "stdout",
     "output_type": "stream",
     "text": [
      "R2 Score value: 0.2583\n"
     ]
    }
   ],
   "source": [
    "from sklearn.metrics import r2_score\n",
    "print (\"R2 Score value: {:.4f}\".format(r2_score(Y_test, Y_pred)))"
   ]
  },
  {
   "cell_type": "markdown",
   "id": "1b7e7a1b",
   "metadata": {},
   "source": [
    "## 5.Plot regression line"
   ]
  },
  {
   "cell_type": "code",
   "execution_count": 28,
   "id": "3aaee827",
   "metadata": {},
   "outputs": [
    {
     "data": {
      "image/png": "[encoded data removed]",
      "text/plain": [
       "<Figure size 640x480 with 1 Axes>"
      ]
     },
     "metadata": {},
     "output_type": "display_data"
    }
   ],
   "source": [
    "plt.scatter(X, Y, color = 'blue', label='Scatter Plot')\n",
    "plt.plot(X_test, Y_pred, color = 'black', linewidth=3, label = 'Regression Line')\n",
    "plt.title('Relationship between area and price')\n",
    "plt.xlabel('area')\n",
    "plt.ylabel('price')\n",
    "plt.legend(loc=4)\n",
    "plt.show()"
   ]
  },
  {
   "cell_type": "code",
   "execution_count": null,
   "id": "6e9bed9c",
   "metadata": {},
   "outputs": [],
   "source": []
  },
  {
   "cell_type": "code",
   "execution_count": null,
   "id": "1ba8608d",
   "metadata": {},
   "outputs": [],
   "source": []
  }
 ],
 "metadata": {
  "kernelspec": {
   "display_name": "Python 3 (ipykernel)",
   "language": "python",
   "name": "python3"
  },
  "language_info": {
   "codemirror_mode": {
    "name": "ipython",
    "version": 3
   },
   "file_extension": ".py",
   "mimetype": "text/x-python",
   "name": "python",
   "nbconvert_exporter": "python",
   "pygments_lexer": "ipython3",
   "version": "3.11.5"
  }
 },
 "nbformat": 4,
 "nbformat_minor": 5
}
